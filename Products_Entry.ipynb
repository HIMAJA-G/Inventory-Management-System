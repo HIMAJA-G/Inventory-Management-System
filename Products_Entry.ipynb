{
  "nbformat": 4,
  "nbformat_minor": 0,
  "metadata": {
    "colab": {
      "name": "Products Entry",
      "provenance": []
    },
    "kernelspec": {
      "name": "python3",
      "display_name": "Python 3"
    },
    "language_info": {
      "name": "python"
    }
  },
  "cells": [
    {
      "cell_type": "code",
      "metadata": {
        "id": "cS3qedG-f_3l"
      },
      "source": [
        "Products = { 1 : {'Prod_name' : 'Dry Fruits', 'Prod_Price' : 200 , 'In_Stock' : 100 , 'Packed_Date' : ' August 2021' , 'Quantity' : '1 Kg',},\n",
        "             2 : {'Prod_name' : 'Oreo Biscuits', 'Prod_Price' : 10 , 'In_Stock' : 100 , 'Packed_Date' : 'April 2021' , 'Quantity' : '100 g'},\n",
        "             3 : {'Prod_name' : 'Milky Bar', 'Prod_Price' : 10 , 'In_Stock' : 100 , 'Packed_Date' : 'July 2021' , 'Quantity' : '20 g'},\n",
        "             4 : {'Prod_name' : 'Bourbon Biscuits', 'Prod_Price' : 20 , 'In_Stock' : 100 , 'Packed_Date' : 'March 2021' , 'Quantity' : '50 g'},\n",
        "             5 : {'Prod_name' : 'Lays', 'Prod_Price' : 50 , 'In_Stock' : 100 , 'Packed_Date' : 'Aug 2021' , 'Quantity' : '100 g'},\n",
        "             6 : {'Prod_name' : 'Dairy Milk', 'Prod_Price' : 70 , 'In_Stock' : 100 , 'Packed_Date' : 'June 2021' , 'Quantity' : '150 g'},\n",
        "             7 : {'Prod_name' : 'Kurukure', 'Prod_Price' : 5 , 'In_Stock' : 100 , 'Packed_Date' : 'May 2021' , 'Quantity' : '150 g'},\n",
        "             8 : {'Prod_name' : 'Maaza', 'Prod_Price' : 120 , 'In_Stock' : 100 , 'Packed_Date' : 'Aug2021' , 'Quantity' : '1 Lit'},\n",
        "             9 : {'Prod_name' : 'Freedom Oil', 'Prod_Price' : 180 , 'In_Stock' : 100 , 'Packed_Date' : 'Feb 2021' , 'Quantity' : '1 Lit'},\n",
        "            10 : {'Prod_name' : 'MTR Gulab Jamun Mix', 'Prod_Price' : 75 , 'In_Stock' : 100 , 'Packed_Date' : 'March 2021' , 'Quantity' : '100 g'},\n",
        "            11 : {'Prod_name' : 'Slice', 'Prod_Price' : 65 , 'In_Stock' : 100 , 'Packed_Date' : 'Feb 2021' , 'Quantity' : '1 Lit'},\n",
        "            12 : {'Prod_name' : 'Sprite', 'Prod_Price' : 75 , 'In_Stock' : 100 , 'Packed_Date' : 'April 2021' , 'Quantity' : '1 Lit'},\n",
        "            13 : {'Prod_name' : 'Badam Milk', 'Prod_Price' : 25 , 'In_Stock' : 100 , 'Packed_Date' : 'June 2021' , 'Quantity' : '250 ml'},\n",
        "            14 : {'Prod_name' : 'Chocos', 'Prod_Price' : 100 , 'In_Stock' : 100 , 'Packed_Date' : 'July 2021' , 'Quantity' : '500 g'},\n",
        "            15 : {'Prod_name' : 'Loose Sooji', 'Prod_Price' : 35 , 'In_Stock' : 100 , 'Packed_Date' : 'Aug 2021' , 'Quantity' : '1 kg'},\n",
        "            16 : {'Prod_name' : 'Sugar', 'Prod_Price' : 38 , 'In_Stock' : 100 , 'Packed_Date' : 'March 2021' , 'Quantity' : '1 Kg'},\n",
        "            17 : {'Prod_name' : 'Bengal Gram', 'Prod_Price' : 120 , 'In_Stock' : 100 , 'Packed_Date' : 'April 2021' , 'Quantity' : '100 g'},\n",
        "            18 : {'Prod_name' : 'Popcorn', 'Prod_Price' : 50 , 'In_Stock' : 100 , 'Packed_Date' : 'Aug 2021' , 'Quantity' : '250 g'},\n",
        "            19 : {'Prod_name' : 'Crack Jack Biscuits', 'Prod_Price' : 25 , 'In_Stock' : 100 , 'Packed_Date' : 'June 2021' , 'Quantity' : '50 g'},\n",
        "            20 : {'Prod_name' : 'Potato Chips', 'Prod_Price' : 30 , 'In_Stock' : 100 , 'Packed_Date' : 'Sep 2021' , 'Quantity' : '100 g'},\n",
        "            21 : {'Prod_name' : 'Ariel Matic Liquid', 'Prod_Price' : 450 , 'In_Stock' : 100 , 'Packed_Date' : 'Jan 2021' , 'Quantity' : '1 Lit'},\n",
        "            22 : {'Prod_name' : 'Mysoore Sandal Soap', 'Prod_Price' : 115 , 'In_Stock' : 100 , 'Packed_Date' : 'April 2021' , 'Quantity' : '300 g'},\n",
        "            23 : {'Prod_name' : 'Bingo Lays', 'Prod_Price' : 20 , 'In_Stock' : 100 , 'Packed_Date' : 'Sep 2021' , 'Quantity' : '25 g'},\n",
        "            24 : {'Prod_name' : 'Surf exel Soap ', 'Prod_Price' : 27 , 'In_Stock' : 100 , 'Packed_Date' : 'May 2021' , 'Quantity' : '250 g'},\n",
        "            25 : {'Prod_name' : 'Womens Horlicks', 'Prod_Price' : 99 , 'In_Stock' : 100 , 'Packed_Date' : 'June 2021' , 'Quantity' : '1 Kg'},\n",
        "            26 : {'Prod_name' : 'Tooth Paste', 'Prod_Price' : 125 , 'In_Stock' : 100 , 'Packed_Date' : 'July 2021' , 'Quantity' : '200 g'},\n",
        "            27 : {'Prod_name' : 'Kissan Jam', 'Prod_Price' : 58 , 'In_Stock' : 100 , 'Packed_Date' : 'Feb 2021' , 'Quantity' : '200 g'},\n",
        "            28 : {'Prod_name' : 'Santoor Hand Wash', 'Prod_Price' : 150 , 'In_Stock' : 100 , 'Packed_Date' : 'March 2021' , 'Quantity' : '250 ml'},\n",
        "            29 : {'Prod_name' : 'Yippee', 'Prod_Price' : 12 , 'In_Stock' : 100 , 'Packed_Date' : 'Sep 2021' , 'Quantity' : '140 g'},\n",
        "            30 : {'Prod_name' : 'Dettol Sanitizer', 'Prod_Price' : 38 , 'In_Stock' : 100 , 'Packed_Date' : 'May 2021' , 'Quantity' : '100 ml'}\n",
        "            }"
      ],
      "execution_count": 7,
      "outputs": []
    },
    {
      "cell_type": "code",
      "metadata": {
        "id": "ua6u5gf7B707"
      },
      "source": [
        "import json"
      ],
      "execution_count": 16,
      "outputs": []
    },
    {
      "cell_type": "code",
      "metadata": {
        "id": "c8QywrV_CKqq"
      },
      "source": [
        "js = json.dumps(Products)"
      ],
      "execution_count": 17,
      "outputs": []
    },
    {
      "cell_type": "code",
      "metadata": {
        "colab": {
          "base_uri": "https://localhost:8080/",
          "height": 355
        },
        "id": "2F4zXBOzCYky",
        "outputId": "80997f17-c073-4588-88ca-ddc85027cd76"
      },
      "source": [
        "js"
      ],
      "execution_count": 10,
      "outputs": [
        {
          "output_type": "execute_result",
          "data": {
            "application/vnd.google.colaboratory.intrinsic+json": {
              "type": "string"
            },
            "text/plain": [
              "'{\"1\": {\"Prod_name\": \"Dry Fruits\", \"Prod_Price\": 200, \"In_Stock\": 100, \"Packed_Date\": \" August 2021\", \"Quantity\": \"1 Kg\"}, \"2\": {\"Prod_name\": \"Oreo Biscuits\", \"Prod_Price\": 10, \"In_Stock\": 100, \"Packed_Date\": \"April 2021\", \"Quantity\": \"100 g\"}, \"3\": {\"Prod_name\": \"Milky Bar\", \"Prod_Price\": 10, \"In_Stock\": 100, \"Packed_Date\": \"July 2021\", \"Quantity\": \"20 g\"}, \"4\": {\"Prod_name\": \"Bourbon Biscuits\", \"Prod_Price\": 20, \"In_Stock\": 100, \"Packed_Date\": \"March 2021\", \"Quantity\": \"50 g\"}, \"5\": {\"Prod_name\": \"Lays\", \"Prod_Price\": 50, \"In_Stock\": 100, \"Packed_Date\": \"Aug 2021\", \"Quantity\": \"100 g\"}, \"6\": {\"Prod_name\": \"Dairy Milk\", \"Prod_Price\": 70, \"In_Stock\": 100, \"Packed_Date\": \"June 2021\", \"Quantity\": \"150 g\"}, \"7\": {\"Prod_name\": \"Kurukure\", \"Prod_Price\": 5, \"In_Stock\": 100, \"Packed_Date\": \"May 2021\", \"Quantity\": \"150 g\"}, \"8\": {\"Prod_name\": \"Maaza\", \"Prod_Price\": 120, \"In_Stock\": 100, \"Packed_Date\": \"Aug2021\", \"Quantity\": \"1 Lit\"}, \"9\": {\"Prod_name\": \"Freedom Oil\", \"Prod_Price\": 180, \"In_Stock\": 100, \"Packed_Date\": \"Feb 2021\", \"Quantity\": \"1 Lit\"}, \"10\": {\"Prod_name\": \"MTR Gulab Jamun Mix\", \"Prod_Price\": 75, \"In_Stock\": 100, \"Packed_Date\": \"March 2021\", \"Quantity\": \"100 g\"}, \"11\": {\"Prod_name\": \"Slice\", \"Prod_Price\": 65, \"In_Stock\": 100, \"Packed_Date\": \"Feb 2021\", \"Quantity\": \"1 Lit\"}, \"12\": {\"Prod_name\": \"Sprite\", \"Prod_Price\": 75, \"In_Stock\": 100, \"Packed_Date\": \"April 2021\", \"Quantity\": \"1 Lit\"}, \"13\": {\"Prod_name\": \"Badam Milk\", \"Prod_Price\": 25, \"In_Stock\": 100, \"Packed_Date\": \"June 2021\", \"Quantity\": \"250 ml\"}, \"14\": {\"Prod_name\": \"Chocos\", \"Prod_Price\": 100, \"In_Stock\": 100, \"Packed_Date\": \"July 2021\", \"Quantity\": \"500 g\"}, \"15\": {\"Prod_name\": \"Loose Sooji\", \"Prod_Price\": 35, \"In_Stock\": 100, \"Packed_Date\": \"Aug 2021\", \"Quantity\": \"1 kg\"}, \"16\": {\"Prod_name\": \"Sugar\", \"Prod_Price\": 38, \"In_Stock\": 100, \"Packed_Date\": \"March 2021\", \"Quantity\": \"1 Kg\"}, \"17\": {\"Prod_name\": \"Bengal Gram\", \"Prod_Price\": 120, \"In_Stock\": 100, \"Packed_Date\": \"April 2021\", \"Quantity\": \"100 g\"}, \"18\": {\"Prod_name\": \"Popcorn\", \"Prod_Price\": 50, \"In_Stock\": 100, \"Packed_Date\": \"Aug 2021\", \"Quantity\": \"250 g\"}, \"19\": {\"Prod_name\": \"Crack Jack Biscuits\", \"Prod_Price\": 25, \"In_Stock\": 100, \"Packed_Date\": \"June 2021\", \"Quantity\": \"50 g\"}, \"20\": {\"Prod_name\": \"Potato Chips\", \"Prod_Price\": 30, \"In_Stock\": 100, \"Packed_Date\": \"Sep 2021\", \"Quantity\": \"100 g\"}, \"21\": {\"Prod_name\": \"Ariel Matic Liquid\", \"Prod_Price\": 450, \"In_Stock\": 100, \"Packed_Date\": \"Jan 2021\", \"Quantity\": \"1 Lit\"}, \"22\": {\"Prod_name\": \"Mysoore Sandal Soap\", \"Prod_Price\": 115, \"In_Stock\": 100, \"Packed_Date\": \"April 2021\", \"Quantity\": \"300 g\"}, \"23\": {\"Prod_name\": \"Bingo Lays\", \"Prod_Price\": 20, \"In_Stock\": 100, \"Packed_Date\": \"Sep 2021\", \"Quantity\": \"25 g\"}, \"24\": {\"Prod_name\": \"Surf exel Soap \", \"Prod_Price\": 27, \"In_Stock\": 100, \"Packed_Date\": \"May 2021\", \"Quantity\": \"250 g\"}, \"25\": {\"Prod_name\": \"Womens Horlicks\", \"Prod_Price\": 99, \"In_Stock\": 100, \"Packed_Date\": \"June 2021\", \"Quantity\": \"1 Kg\"}, \"26\": {\"Prod_name\": \"Tooth Paste\", \"Prod_Price\": 125, \"In_Stock\": 100, \"Packed_Date\": \"July 2021\", \"Quantity\": \"200 g\"}, \"27\": {\"Prod_name\": \"Kissan Jam\", \"Prod_Price\": 58, \"In_Stock\": 100, \"Packed_Date\": \"Feb 2021\", \"Quantity\": \"200 g\"}, \"28\": {\"Prod_name\": \"Santoor Hand Wash\", \"Prod_Price\": 150, \"In_Stock\": 100, \"Packed_Date\": \"March 2021\", \"Quantity\": \"250 ml\"}, \"29\": {\"Prod_name\": \"Yippee\", \"Prod_Price\": 12, \"In_Stock\": 100, \"Packed_Date\": \"Sep 2021\", \"Quantity\": \"140 g\"}, \"30\": {\"Prod_name\": \"Dettol Sanitizer\", \"Prod_Price\": 38, \"In_Stock\": 100, \"Packed_Date\": \"May 2021\", \"Quantity\": \"100 ml\"}}'"
            ]
          },
          "metadata": {},
          "execution_count": 10
        }
      ]
    },
    {
      "cell_type": "code",
      "metadata": {
        "id": "cms_pqRxCea_"
      },
      "source": [
        "fd = open('Products.json','w')\n",
        "fd.write(js)\n",
        "fd.close()"
      ],
      "execution_count": 13,
      "outputs": []
    },
    {
      "cell_type": "code",
      "metadata": {
        "id": "IQHw3erjDHul"
      },
      "source": [
        "fd = open('Products.json','r')\n",
        "text = fd.read()\n",
        "fd.close()"
      ],
      "execution_count": 15,
      "outputs": []
    },
    {
      "cell_type": "code",
      "metadata": {
        "id": "hA0-xhvVD2Fo"
      },
      "source": [
        ""
      ],
      "execution_count": null,
      "outputs": []
    }
  ]
}